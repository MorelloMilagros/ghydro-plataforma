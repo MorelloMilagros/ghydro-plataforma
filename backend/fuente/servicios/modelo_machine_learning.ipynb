{
 "cells": [
  {
   "cell_type": "markdown",
   "id": "508a39f2",
   "metadata": {},
   "source": [
    "# Conexión a la base de datos"
   ]
  },
  {
   "cell_type": "code",
   "execution_count": 10,
   "id": "f584cc1f",
   "metadata": {},
   "outputs": [
    {
     "name": "stdout",
     "output_type": "stream",
     "text": [
      "Conexión exitosa y DataFrame creado.\n",
      "   id       fecha    ph  conductividad  turbidez potable\n",
      "0   1  2015-07-07  6.88         1479.0     890.0       N\n",
      "1   2  2019-12-09  7.60         1653.0    1207.0       N\n",
      "2   3  2020-01-30  6.69         1049.0    1667.0       N\n",
      "3   4  2020-09-25  6.56         1651.0    1150.0       N\n",
      "4   5  2021-01-12  7.02         1696.0    1050.0       N\n"
     ]
    }
   ],
   "source": [
    "import os\n",
    "from dotenv import load_dotenv\n",
    "import psycopg2\n",
    "from sqlalchemy import create_engine\n",
    "import pandas as pd\n",
    "\n",
    "load_dotenv()\n",
    "\n",
    "pg_host = os.getenv(\"PG_HOST\")\n",
    "pg_db   = os.getenv(\"PG_DB\")\n",
    "pg_user = os.getenv(\"PG_USER\")\n",
    "pg_pass = os.getenv(\"PG_PASS\")\n",
    "puerto = os.getenv(\"PG_PORT\", \"5432\") \n",
    "\n",
    "# 3. Crear la cadena de conexión\n",
    "cadena_conexion = f'postgresql://{pg_user}:{pg_pass}@{pg_host}:{puerto}/{pg_db}'\n",
    "\n",
    "# 4. Crear el motor de SQLAlchemy\n",
    "engine = create_engine(cadena_conexion)\n",
    "\n",
    "# 5. Cargar los datos en un DataFrame de Pandas\n",
    "try:\n",
    "    consulta_sql = \"SELECT * FROM mediciones;\"\n",
    "    df = pd.read_sql_query(consulta_sql, engine)\n",
    "    print(\"Conexión exitosa y DataFrame creado.\")\n",
    "    print(df.head())\n",
    "except Exception as ex:\n",
    "    print(\"Error al conectar a la base de datos o cargar los datos:\", ex)\n"
   ]
  },
  {
   "cell_type": "markdown",
   "id": "9f60c19b",
   "metadata": {},
   "source": [
    "# EDA"
   ]
  },
  {
   "cell_type": "markdown",
   "id": "069c1652",
   "metadata": {},
   "source": [
    "## Forma del dataset"
   ]
  },
  {
   "cell_type": "code",
   "execution_count": 11,
   "id": "fd07cc37",
   "metadata": {},
   "outputs": [
    {
     "name": "stdout",
     "output_type": "stream",
     "text": [
      "Tamaño del DataFrame: (213, 6)\n"
     ]
    }
   ],
   "source": [
    "print(\"Tamaño del DataFrame:\", df.shape)"
   ]
  },
  {
   "cell_type": "markdown",
   "id": "5af551c2",
   "metadata": {},
   "source": [
    "## Primeras/últimas filas"
   ]
  },
  {
   "cell_type": "code",
   "execution_count": 16,
   "id": "ef73855e",
   "metadata": {},
   "outputs": [
    {
     "data": {
      "text/html": [
       "<div>\n",
       "<style scoped>\n",
       "    .dataframe tbody tr th:only-of-type {\n",
       "        vertical-align: middle;\n",
       "    }\n",
       "\n",
       "    .dataframe tbody tr th {\n",
       "        vertical-align: top;\n",
       "    }\n",
       "\n",
       "    .dataframe thead th {\n",
       "        text-align: right;\n",
       "    }\n",
       "</style>\n",
       "<table border=\"1\" class=\"dataframe\">\n",
       "  <thead>\n",
       "    <tr style=\"text-align: right;\">\n",
       "      <th></th>\n",
       "      <th>id</th>\n",
       "      <th>fecha</th>\n",
       "      <th>ph</th>\n",
       "      <th>conductividad</th>\n",
       "      <th>turbidez</th>\n",
       "      <th>potable</th>\n",
       "    </tr>\n",
       "  </thead>\n",
       "  <tbody>\n",
       "    <tr>\n",
       "      <th>0</th>\n",
       "      <td>1</td>\n",
       "      <td>2015-07-07</td>\n",
       "      <td>6.88</td>\n",
       "      <td>1479.0</td>\n",
       "      <td>890.0</td>\n",
       "      <td>N</td>\n",
       "    </tr>\n",
       "    <tr>\n",
       "      <th>1</th>\n",
       "      <td>2</td>\n",
       "      <td>2019-12-09</td>\n",
       "      <td>7.60</td>\n",
       "      <td>1653.0</td>\n",
       "      <td>1207.0</td>\n",
       "      <td>N</td>\n",
       "    </tr>\n",
       "    <tr>\n",
       "      <th>2</th>\n",
       "      <td>3</td>\n",
       "      <td>2020-01-30</td>\n",
       "      <td>6.69</td>\n",
       "      <td>1049.0</td>\n",
       "      <td>1667.0</td>\n",
       "      <td>N</td>\n",
       "    </tr>\n",
       "    <tr>\n",
       "      <th>3</th>\n",
       "      <td>4</td>\n",
       "      <td>2020-09-25</td>\n",
       "      <td>6.56</td>\n",
       "      <td>1651.0</td>\n",
       "      <td>1150.0</td>\n",
       "      <td>N</td>\n",
       "    </tr>\n",
       "    <tr>\n",
       "      <th>4</th>\n",
       "      <td>5</td>\n",
       "      <td>2021-01-12</td>\n",
       "      <td>7.02</td>\n",
       "      <td>1696.0</td>\n",
       "      <td>1050.0</td>\n",
       "      <td>N</td>\n",
       "    </tr>\n",
       "  </tbody>\n",
       "</table>\n",
       "</div>"
      ],
      "text/plain": [
       "   id       fecha    ph  conductividad  turbidez potable\n",
       "0   1  2015-07-07  6.88         1479.0     890.0       N\n",
       "1   2  2019-12-09  7.60         1653.0    1207.0       N\n",
       "2   3  2020-01-30  6.69         1049.0    1667.0       N\n",
       "3   4  2020-09-25  6.56         1651.0    1150.0       N\n",
       "4   5  2021-01-12  7.02         1696.0    1050.0       N"
      ]
     },
     "execution_count": 16,
     "metadata": {},
     "output_type": "execute_result"
    }
   ],
   "source": [
    "df.head()"
   ]
  },
  {
   "cell_type": "code",
   "execution_count": 17,
   "id": "506d374e",
   "metadata": {},
   "outputs": [
    {
     "data": {
      "text/html": [
       "<div>\n",
       "<style scoped>\n",
       "    .dataframe tbody tr th:only-of-type {\n",
       "        vertical-align: middle;\n",
       "    }\n",
       "\n",
       "    .dataframe tbody tr th {\n",
       "        vertical-align: top;\n",
       "    }\n",
       "\n",
       "    .dataframe thead th {\n",
       "        text-align: right;\n",
       "    }\n",
       "</style>\n",
       "<table border=\"1\" class=\"dataframe\">\n",
       "  <thead>\n",
       "    <tr style=\"text-align: right;\">\n",
       "      <th></th>\n",
       "      <th>id</th>\n",
       "      <th>fecha</th>\n",
       "      <th>ph</th>\n",
       "      <th>conductividad</th>\n",
       "      <th>turbidez</th>\n",
       "      <th>potable</th>\n",
       "    </tr>\n",
       "  </thead>\n",
       "  <tbody>\n",
       "    <tr>\n",
       "      <th>208</th>\n",
       "      <td>209</td>\n",
       "      <td>2022-09-16</td>\n",
       "      <td>6.6</td>\n",
       "      <td>1520.0</td>\n",
       "      <td>1300.0</td>\n",
       "      <td>N</td>\n",
       "    </tr>\n",
       "    <tr>\n",
       "      <th>209</th>\n",
       "      <td>210</td>\n",
       "      <td>2022-09-17</td>\n",
       "      <td>7.7</td>\n",
       "      <td>1740.0</td>\n",
       "      <td>1250.0</td>\n",
       "      <td>N</td>\n",
       "    </tr>\n",
       "    <tr>\n",
       "      <th>210</th>\n",
       "      <td>211</td>\n",
       "      <td>2022-09-18</td>\n",
       "      <td>6.5</td>\n",
       "      <td>1620.0</td>\n",
       "      <td>1400.0</td>\n",
       "      <td>N</td>\n",
       "    </tr>\n",
       "    <tr>\n",
       "      <th>211</th>\n",
       "      <td>212</td>\n",
       "      <td>2022-09-19</td>\n",
       "      <td>7.8</td>\n",
       "      <td>1800.0</td>\n",
       "      <td>950.0</td>\n",
       "      <td>N</td>\n",
       "    </tr>\n",
       "    <tr>\n",
       "      <th>212</th>\n",
       "      <td>213</td>\n",
       "      <td>2022-09-20</td>\n",
       "      <td>6.4</td>\n",
       "      <td>1450.0</td>\n",
       "      <td>1500.0</td>\n",
       "      <td>N</td>\n",
       "    </tr>\n",
       "  </tbody>\n",
       "</table>\n",
       "</div>"
      ],
      "text/plain": [
       "      id       fecha   ph  conductividad  turbidez potable\n",
       "208  209  2022-09-16  6.6         1520.0    1300.0       N\n",
       "209  210  2022-09-17  7.7         1740.0    1250.0       N\n",
       "210  211  2022-09-18  6.5         1620.0    1400.0       N\n",
       "211  212  2022-09-19  7.8         1800.0     950.0       N\n",
       "212  213  2022-09-20  6.4         1450.0    1500.0       N"
      ]
     },
     "execution_count": 17,
     "metadata": {},
     "output_type": "execute_result"
    }
   ],
   "source": [
    "df.tail()"
   ]
  },
  {
   "cell_type": "markdown",
   "id": "afed6e61",
   "metadata": {},
   "source": [
    "## Tipos de datos"
   ]
  },
  {
   "cell_type": "code",
   "execution_count": 18,
   "id": "faab4fe0",
   "metadata": {},
   "outputs": [
    {
     "data": {
      "text/plain": [
       "id                 int64\n",
       "fecha             object\n",
       "ph               float64\n",
       "conductividad    float64\n",
       "turbidez         float64\n",
       "potable           object\n",
       "dtype: object"
      ]
     },
     "execution_count": 18,
     "metadata": {},
     "output_type": "execute_result"
    }
   ],
   "source": [
    "df.dtypes"
   ]
  },
  {
   "cell_type": "markdown",
   "id": "0f6c8e44",
   "metadata": {},
   "source": [
    "## Información resumida"
   ]
  },
  {
   "cell_type": "code",
   "execution_count": 12,
   "id": "25437a63",
   "metadata": {},
   "outputs": [
    {
     "name": "stdout",
     "output_type": "stream",
     "text": [
      "<class 'pandas.core.frame.DataFrame'>\n",
      "RangeIndex: 213 entries, 0 to 212\n",
      "Data columns (total 6 columns):\n",
      " #   Column         Non-Null Count  Dtype  \n",
      "---  ------         --------------  -----  \n",
      " 0   id             213 non-null    int64  \n",
      " 1   fecha          213 non-null    object \n",
      " 2   ph             213 non-null    float64\n",
      " 3   conductividad  213 non-null    float64\n",
      " 4   turbidez       213 non-null    float64\n",
      " 5   potable        213 non-null    object \n",
      "dtypes: float64(3), int64(1), object(2)\n",
      "memory usage: 10.1+ KB\n"
     ]
    }
   ],
   "source": [
    "df.info()"
   ]
  },
  {
   "cell_type": "markdown",
   "id": "f526efd4",
   "metadata": {},
   "source": [
    "Se cambiará el tipo de variable de fecha a tipo date por si es necesario realizar operaciones temporales y la varieble potable a tipo factor"
   ]
  },
  {
   "cell_type": "code",
   "execution_count": 19,
   "id": "3f6acfcd",
   "metadata": {},
   "outputs": [],
   "source": [
    "df['fecha'] = pd.to_datetime(df['fecha'])\n",
    "df['potable'] = df['potable'].astype('category')"
   ]
  },
  {
   "cell_type": "code",
   "execution_count": 21,
   "id": "e3ccdf38",
   "metadata": {},
   "outputs": [
    {
     "name": "stdout",
     "output_type": "stream",
     "text": [
      "Códigos asignados:\n",
      "   Código Categoría\n",
      "0       0         N\n",
      "1       1         S\n"
     ]
    }
   ],
   "source": [
    "codigos, categorias = df[\"potable\"].factorize()\n",
    "df[\"potable_codificada\"] = codigos\n",
    "\n",
    "print(\"Códigos asignados:\")\n",
    "print(pd.DataFrame({\"Código\": range(len(categorias)), \"Categoría\": categorias}))"
   ]
  },
  {
   "cell_type": "code",
   "execution_count": 22,
   "id": "36e9aa49",
   "metadata": {},
   "outputs": [
    {
     "name": "stdout",
     "output_type": "stream",
     "text": [
      "<class 'pandas.core.frame.DataFrame'>\n",
      "RangeIndex: 213 entries, 0 to 212\n",
      "Data columns (total 7 columns):\n",
      " #   Column              Non-Null Count  Dtype         \n",
      "---  ------              --------------  -----         \n",
      " 0   id                  213 non-null    int64         \n",
      " 1   fecha               213 non-null    datetime64[ns]\n",
      " 2   ph                  213 non-null    float64       \n",
      " 3   conductividad       213 non-null    float64       \n",
      " 4   turbidez            213 non-null    float64       \n",
      " 5   potable             213 non-null    category      \n",
      " 6   potable_codificada  213 non-null    int64         \n",
      "dtypes: category(1), datetime64[ns](1), float64(3), int64(2)\n",
      "memory usage: 10.4 KB\n"
     ]
    }
   ],
   "source": [
    "df.info()"
   ]
  },
  {
   "cell_type": "code",
   "execution_count": 23,
   "id": "099f1b98",
   "metadata": {},
   "outputs": [
    {
     "data": {
      "text/html": [
       "<div>\n",
       "<style scoped>\n",
       "    .dataframe tbody tr th:only-of-type {\n",
       "        vertical-align: middle;\n",
       "    }\n",
       "\n",
       "    .dataframe tbody tr th {\n",
       "        vertical-align: top;\n",
       "    }\n",
       "\n",
       "    .dataframe thead th {\n",
       "        text-align: right;\n",
       "    }\n",
       "</style>\n",
       "<table border=\"1\" class=\"dataframe\">\n",
       "  <thead>\n",
       "    <tr style=\"text-align: right;\">\n",
       "      <th></th>\n",
       "      <th>id</th>\n",
       "      <th>fecha</th>\n",
       "      <th>ph</th>\n",
       "      <th>conductividad</th>\n",
       "      <th>turbidez</th>\n",
       "      <th>potable</th>\n",
       "      <th>potable_codificada</th>\n",
       "    </tr>\n",
       "  </thead>\n",
       "  <tbody>\n",
       "    <tr>\n",
       "      <th>0</th>\n",
       "      <td>1</td>\n",
       "      <td>2015-07-07</td>\n",
       "      <td>6.88</td>\n",
       "      <td>1479.0</td>\n",
       "      <td>890.0</td>\n",
       "      <td>N</td>\n",
       "      <td>0</td>\n",
       "    </tr>\n",
       "    <tr>\n",
       "      <th>1</th>\n",
       "      <td>2</td>\n",
       "      <td>2019-12-09</td>\n",
       "      <td>7.60</td>\n",
       "      <td>1653.0</td>\n",
       "      <td>1207.0</td>\n",
       "      <td>N</td>\n",
       "      <td>0</td>\n",
       "    </tr>\n",
       "    <tr>\n",
       "      <th>2</th>\n",
       "      <td>3</td>\n",
       "      <td>2020-01-30</td>\n",
       "      <td>6.69</td>\n",
       "      <td>1049.0</td>\n",
       "      <td>1667.0</td>\n",
       "      <td>N</td>\n",
       "      <td>0</td>\n",
       "    </tr>\n",
       "    <tr>\n",
       "      <th>3</th>\n",
       "      <td>4</td>\n",
       "      <td>2020-09-25</td>\n",
       "      <td>6.56</td>\n",
       "      <td>1651.0</td>\n",
       "      <td>1150.0</td>\n",
       "      <td>N</td>\n",
       "      <td>0</td>\n",
       "    </tr>\n",
       "    <tr>\n",
       "      <th>4</th>\n",
       "      <td>5</td>\n",
       "      <td>2021-01-12</td>\n",
       "      <td>7.02</td>\n",
       "      <td>1696.0</td>\n",
       "      <td>1050.0</td>\n",
       "      <td>N</td>\n",
       "      <td>0</td>\n",
       "    </tr>\n",
       "  </tbody>\n",
       "</table>\n",
       "</div>"
      ],
      "text/plain": [
       "   id      fecha    ph  conductividad  turbidez potable  potable_codificada\n",
       "0   1 2015-07-07  6.88         1479.0     890.0       N                   0\n",
       "1   2 2019-12-09  7.60         1653.0    1207.0       N                   0\n",
       "2   3 2020-01-30  6.69         1049.0    1667.0       N                   0\n",
       "3   4 2020-09-25  6.56         1651.0    1150.0       N                   0\n",
       "4   5 2021-01-12  7.02         1696.0    1050.0       N                   0"
      ]
     },
     "execution_count": 23,
     "metadata": {},
     "output_type": "execute_result"
    }
   ],
   "source": [
    "df.head()  # Muestra las primeras filas del DataFrame"
   ]
  },
  {
   "cell_type": "markdown",
   "id": "623db899",
   "metadata": {},
   "source": [
    "## Tratamiento de valores nulos"
   ]
  },
  {
   "cell_type": "code",
   "execution_count": 14,
   "id": "ae3b3a04",
   "metadata": {},
   "outputs": [
    {
     "data": {
      "text/plain": [
       "id               0\n",
       "fecha            0\n",
       "ph               0\n",
       "conductividad    0\n",
       "turbidez         0\n",
       "potable          0\n",
       "dtype: int64"
      ]
     },
     "execution_count": 14,
     "metadata": {},
     "output_type": "execute_result"
    }
   ],
   "source": [
    "df.isnull().sum()"
   ]
  },
  {
   "cell_type": "markdown",
   "id": "43748ad3",
   "metadata": {},
   "source": [
    "## Estadísticas Descriptivas"
   ]
  },
  {
   "cell_type": "markdown",
   "id": "a2f845dc",
   "metadata": {},
   "source": [
    "### Funciones"
   ]
  },
  {
   "cell_type": "code",
   "execution_count": 36,
   "id": "e8baa756",
   "metadata": {},
   "outputs": [],
   "source": [
    "def analisis_descriptivo(datos, nombre_variable):\n",
    "    \"\"\"\n",
    "    Realiza un análisis descriptivo completo de una variable numérica.\n",
    "\n",
    "    Args:\n",
    "        datos (pd.Series): Serie de pandas con los datos a analizar\n",
    "        nombre_variable (str): Nombre de la variable para los resultados\n",
    "\n",
    "    Returns:\n",
    "        dict: Diccionario con todas las medidas estadísticas\n",
    "    \"\"\"\n",
    "    if isinstance(datos, pd.Series):\n",
    "        datos_series = datos\n",
    "    else:\n",
    "        datos_series = pd.Series(datos)\n",
    "\n",
    "    # Cálculos básicos\n",
    "    modas = datos_series.mode()\n",
    "    moda = modas[0] if not modas.empty else None\n",
    "\n",
    "    q1 = datos_series.quantile(0.25)\n",
    "    q3 = datos_series.quantile(0.75)\n",
    "    iqr = q3 - q1\n",
    "\n",
    "    # Detección de outliers\n",
    "    limite_inferior = q1 - 1.5 * iqr\n",
    "    limite_superior = q3 + 1.5 * iqr\n",
    "    outliers = datos_series[(datos_series < limite_inferior) | (datos_series > limite_superior)]\n",
    "\n",
    "    # Resultados numéricos\n",
    "    resultados = {\n",
    "        'Variable': nombre_variable,\n",
    "        'N': int(len(datos_series)),\n",
    "        'Media': float(datos_series.mean()),\n",
    "        'Mediana': float(datos_series.median()),\n",
    "        'Moda': float(moda) if moda is not None else None,\n",
    "        'Mínimo': int(datos_series.min()),\n",
    "        'Máximo': float(datos_series.max()),\n",
    "        'Rango': float(datos_series.max() - datos_series.min()),\n",
    "        'Varianza': float(datos_series.var(ddof=0)),\n",
    "        'Desviación Estándar': float(datos_series.std(ddof=0)),\n",
    "        'Coeficiente de Variación': float((datos_series.std(ddof=0) / datos_series.mean()) * 100) if datos_series.mean() != 0 else float('nan'),\n",
    "        'Q1': float(q1),\n",
    "        'Q3': float(q3),\n",
    "        'Rango Intercuartílico': int(iqr),\n",
    "        'Asimetría': float(datos_series.skew()),\n",
    "        'Curtosis': float(datos_series.kurtosis() + 3),\n",
    "        'Número de Outliers': int(len(outliers)),\n",
    "        'Porcentaje Outliers': float(len(outliers)/len(datos_series)*100)\n",
    "    }\n",
    "\n",
    "    # Interpretación automática\n",
    "    skew = resultados['Asimetría']\n",
    "    kurt = resultados['Curtosis']\n",
    "    cv = resultados['Coeficiente de Variación']\n",
    "\n",
    "    interpretacion = {\n",
    "        'Asimetría': 'Asimetría positiva fuerte (cola derecha)' if skew > 1 else\n",
    "                     'Asimetría positiva moderada' if skew > 0.5 else\n",
    "                     'Simétrica' if -0.5 <= skew <= 0.5 else\n",
    "                     'Asimetría negativa moderada' if skew < -0.5 else\n",
    "                     'Asimetría negativa fuerte (cola izquierda)',\n",
    "        'Curtosis': 'Distribución muy leptocúrtica (puntiaguda con colas pesadas)' if kurt > 4 else\n",
    "                    'Distribución leptocúrtica' if kurt > 3 else\n",
    "                    'Distribución mesocúrtica (normal)' if 2.5 <= kurt <= 3.5 else\n",
    "                    'Distribución platicúrtica (plana)',\n",
    "        'Variabilidad': 'Variabilidad extremadamente alta' if cv > 100 else\n",
    "                        'Variabilidad muy alta' if cv > 50 else\n",
    "                        'Variabilidad moderada' if cv > 20 else\n",
    "                        'Variabilidad baja'\n",
    "    }\n",
    "\n",
    "    resultados['Interpretación'] = interpretacion\n",
    "    return resultados"
   ]
  },
  {
   "cell_type": "markdown",
   "id": "f7fdbc05",
   "metadata": {},
   "source": [
    "### Analisis"
   ]
  },
  {
   "cell_type": "code",
   "execution_count": 38,
   "id": "b326350c",
   "metadata": {},
   "outputs": [
    {
     "name": "stdout",
     "output_type": "stream",
     "text": [
      "Análisis descriptivo del pH:\n"
     ]
    },
    {
     "data": {
      "text/plain": [
       "{'Variable': 'ph',\n",
       " 'N': 213,\n",
       " 'Media': 7.027558685446009,\n",
       " 'Mediana': 7.0,\n",
       " 'Moda': 6.5,\n",
       " 'Mínimo': 6,\n",
       " 'Máximo': 7.9,\n",
       " 'Rango': 1.6000000000000005,\n",
       " 'Varianza': 0.22150014326963344,\n",
       " 'Desviación Estándar': 0.4706380172379123,\n",
       " 'Coeficiente de Variación': 6.697034323065819,\n",
       " 'Q1': 6.6,\n",
       " 'Q3': 7.45,\n",
       " 'Rango Intercuartílico': 0,\n",
       " 'Asimetría': 0.21055209293696378,\n",
       " 'Curtosis': 1.8601020157523205,\n",
       " 'Número de Outliers': 0,\n",
       " 'Porcentaje Outliers': 0.0,\n",
       " 'Interpretación': {'Asimetría': 'Simétrica',\n",
       "  'Curtosis': 'Distribución platicúrtica (plana)',\n",
       "  'Variabilidad': 'Variabilidad baja'}}"
      ]
     },
     "execution_count": 38,
     "metadata": {},
     "output_type": "execute_result"
    }
   ],
   "source": [
    "analisis_descriptivo_ph = analisis_descriptivo(df['ph'], 'ph')\n",
    "print(\"Análisis descriptivo del pH:\")\n",
    "analisis_descriptivo_ph\n"
   ]
  },
  {
   "cell_type": "code",
   "execution_count": 39,
   "id": "e6c56403",
   "metadata": {},
   "outputs": [
    {
     "name": "stdout",
     "output_type": "stream",
     "text": [
      "Análisis descriptivo de la conductividad:\n"
     ]
    },
    {
     "data": {
      "text/plain": [
       "{'Variable': 'conductividad',\n",
       " 'N': 213,\n",
       " 'Media': 1623.5727699530516,\n",
       " 'Mediana': 1655.0,\n",
       " 'Moda': 1675.0,\n",
       " 'Mínimo': 1049,\n",
       " 'Máximo': 1825.0,\n",
       " 'Rango': 776.0,\n",
       " 'Varianza': 16844.197756177124,\n",
       " 'Desviación Estándar': 129.78519852501333,\n",
       " 'Coeficiente de Variación': 7.993802367649113,\n",
       " 'Q1': 1585.0,\n",
       " 'Q3': 1690.0,\n",
       " 'Rango Intercuartílico': 105,\n",
       " 'Asimetría': -1.6047629014424771,\n",
       " 'Curtosis': 7.014203472661007,\n",
       " 'Número de Outliers': 23,\n",
       " 'Porcentaje Outliers': 10.7981220657277,\n",
       " 'Interpretación': {'Asimetría': 'Asimetría negativa moderada',\n",
       "  'Curtosis': 'Distribución muy leptocúrtica (puntiaguda con colas pesadas)',\n",
       "  'Variabilidad': 'Variabilidad baja'}}"
      ]
     },
     "execution_count": 39,
     "metadata": {},
     "output_type": "execute_result"
    }
   ],
   "source": [
    "analisis_descriptivo_conductividad = analisis_descriptivo(df['conductividad'], 'conductividad')\n",
    "print(\"Análisis descriptivo de la conductividad:\")\n",
    "analisis_descriptivo_conductividad"
   ]
  },
  {
   "cell_type": "code",
   "execution_count": 40,
   "id": "85a3c550",
   "metadata": {},
   "outputs": [
    {
     "name": "stdout",
     "output_type": "stream",
     "text": [
      "Análisis descriptivo de la turbidez:\n"
     ]
    },
    {
     "data": {
      "text/plain": [
       "{'Variable': 'turbidez',\n",
       " 'N': 213,\n",
       " 'Media': 1173.605633802817,\n",
       " 'Mediana': 1100.0,\n",
       " 'Moda': 1050.0,\n",
       " 'Mínimo': 880,\n",
       " 'Máximo': 1670.0,\n",
       " 'Rango': 790.0,\n",
       " 'Varianza': 38308.623818025524,\n",
       " 'Desviación Estándar': 195.72588949350958,\n",
       " 'Coeficiente de Variación': 16.677313388425198,\n",
       " 'Q1': 1035.0,\n",
       " 'Q3': 1300.0,\n",
       " 'Rango Intercuartílico': 265,\n",
       " 'Asimetría': 0.9005806325147123,\n",
       " 'Curtosis': 2.843972627555225,\n",
       " 'Número de Outliers': 0,\n",
       " 'Porcentaje Outliers': 0.0,\n",
       " 'Interpretación': {'Asimetría': 'Asimetría positiva moderada',\n",
       "  'Curtosis': 'Distribución mesocúrtica (normal)',\n",
       "  'Variabilidad': 'Variabilidad baja'}}"
      ]
     },
     "execution_count": 40,
     "metadata": {},
     "output_type": "execute_result"
    }
   ],
   "source": [
    "analisis_descriptivo_turbidez = analisis_descriptivo(df['turbidez'], 'turbidez')\n",
    "print(\"Análisis descriptivo de la turbidez:\")   \n",
    "analisis_descriptivo_turbidez"
   ]
  },
  {
   "cell_type": "markdown",
   "id": "11bdc9bc",
   "metadata": {},
   "source": []
  },
  {
   "cell_type": "code",
   "execution_count": null,
   "id": "2dffcb7f",
   "metadata": {},
   "outputs": [],
   "source": []
  }
 ],
 "metadata": {
  "kernelspec": {
   "display_name": ".venv",
   "language": "python",
   "name": "python3"
  },
  "language_info": {
   "codemirror_mode": {
    "name": "ipython",
    "version": 3
   },
   "file_extension": ".py",
   "mimetype": "text/x-python",
   "name": "python",
   "nbconvert_exporter": "python",
   "pygments_lexer": "ipython3",
   "version": "3.11.5"
  }
 },
 "nbformat": 4,
 "nbformat_minor": 5
}
